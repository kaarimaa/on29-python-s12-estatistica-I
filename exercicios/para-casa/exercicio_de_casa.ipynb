{
  "nbformat": 4,
  "nbformat_minor": 0,
  "metadata": {
    "colab": {
      "provenance": [],
      "authorship_tag": "ABX9TyNhDHsXKBxeBKkuoXRDL9Hk",
      "include_colab_link": true
    },
    "kernelspec": {
      "name": "python3",
      "display_name": "Python 3"
    },
    "language_info": {
      "name": "python"
    }
  },
  "cells": [
    {
      "cell_type": "markdown",
      "metadata": {
        "id": "view-in-github",
        "colab_type": "text"
      },
      "source": [
        "<a href=\"https://colab.research.google.com/github/kaarimaa/on29-python-s12-estatistica-I/blob/main/exercicios/para-casa/exercicio_de_casa.ipynb\" target=\"_parent\"><img src=\"https://colab.research.google.com/assets/colab-badge.svg\" alt=\"Open In Colab\"/></a>"
      ]
    },
    {
      "cell_type": "markdown",
      "source": [
        " *Você trabalha em uma empresa de varejo e recebeu uma lista de vendas fictícias de diferentes produtos ao longo de vários meses. Seu objetivo é realizar uma análise estatística descritiva dos valores das vendas e criar um histograma para visualizar a distribuição desses valores.*\n",
        "\n",
        "\n"
      ],
      "metadata": {
        "id": "ropA1ufP_Waf"
      }
    },
    {
      "cell_type": "code",
      "source": [
        "pip install pandas"
      ],
      "metadata": {
        "colab": {
          "base_uri": "https://localhost:8080/"
        },
        "id": "8snjXhh5ETfm",
        "outputId": "ad9744f6-1f7d-41a8-c27c-928a726cbd0a"
      },
      "execution_count": 2,
      "outputs": [
        {
          "output_type": "stream",
          "name": "stdout",
          "text": [
            "Requirement already satisfied: pandas in /usr/local/lib/python3.10/dist-packages (2.0.3)\n",
            "Requirement already satisfied: python-dateutil>=2.8.2 in /usr/local/lib/python3.10/dist-packages (from pandas) (2.8.2)\n",
            "Requirement already satisfied: pytz>=2020.1 in /usr/local/lib/python3.10/dist-packages (from pandas) (2023.4)\n",
            "Requirement already satisfied: tzdata>=2022.1 in /usr/local/lib/python3.10/dist-packages (from pandas) (2024.1)\n",
            "Requirement already satisfied: numpy>=1.21.0 in /usr/local/lib/python3.10/dist-packages (from pandas) (1.25.2)\n",
            "Requirement already satisfied: six>=1.5 in /usr/local/lib/python3.10/dist-packages (from python-dateutil>=2.8.2->pandas) (1.16.0)\n"
          ]
        }
      ]
    },
    {
      "cell_type": "code",
      "source": [
        "pip install numpy"
      ],
      "metadata": {
        "colab": {
          "base_uri": "https://localhost:8080/"
        },
        "id": "lXlYKSzQEYVQ",
        "outputId": "1463ded2-c126-423c-ba26-66f9c2d2df04"
      },
      "execution_count": 3,
      "outputs": [
        {
          "output_type": "stream",
          "name": "stdout",
          "text": [
            "Requirement already satisfied: numpy in /usr/local/lib/python3.10/dist-packages (1.25.2)\n"
          ]
        }
      ]
    },
    {
      "cell_type": "code",
      "source": [
        "pip install matplotlib"
      ],
      "metadata": {
        "colab": {
          "base_uri": "https://localhost:8080/"
        },
        "id": "3Qrw8weUEdJF",
        "outputId": "5497d2ba-4766-44d3-c443-8b2b87725ca4"
      },
      "execution_count": 5,
      "outputs": [
        {
          "output_type": "stream",
          "name": "stdout",
          "text": [
            "Requirement already satisfied: matplotlib in /usr/local/lib/python3.10/dist-packages (3.7.1)\n",
            "Requirement already satisfied: contourpy>=1.0.1 in /usr/local/lib/python3.10/dist-packages (from matplotlib) (1.2.1)\n",
            "Requirement already satisfied: cycler>=0.10 in /usr/local/lib/python3.10/dist-packages (from matplotlib) (0.12.1)\n",
            "Requirement already satisfied: fonttools>=4.22.0 in /usr/local/lib/python3.10/dist-packages (from matplotlib) (4.53.0)\n",
            "Requirement already satisfied: kiwisolver>=1.0.1 in /usr/local/lib/python3.10/dist-packages (from matplotlib) (1.4.5)\n",
            "Requirement already satisfied: numpy>=1.20 in /usr/local/lib/python3.10/dist-packages (from matplotlib) (1.25.2)\n",
            "Requirement already satisfied: packaging>=20.0 in /usr/local/lib/python3.10/dist-packages (from matplotlib) (24.1)\n",
            "Requirement already satisfied: pillow>=6.2.0 in /usr/local/lib/python3.10/dist-packages (from matplotlib) (9.4.0)\n",
            "Requirement already satisfied: pyparsing>=2.3.1 in /usr/local/lib/python3.10/dist-packages (from matplotlib) (3.1.2)\n",
            "Requirement already satisfied: python-dateutil>=2.7 in /usr/local/lib/python3.10/dist-packages (from matplotlib) (2.8.2)\n",
            "Requirement already satisfied: six>=1.5 in /usr/local/lib/python3.10/dist-packages (from python-dateutil>=2.7->matplotlib) (1.16.0)\n"
          ]
        }
      ]
    },
    {
      "cell_type": "code",
      "source": [
        "pip install seaborn"
      ],
      "metadata": {
        "colab": {
          "base_uri": "https://localhost:8080/"
        },
        "id": "YcO96tNlElKz",
        "outputId": "2d880bde-ef6a-403b-8911-b4cf5df59c9e"
      },
      "execution_count": 6,
      "outputs": [
        {
          "output_type": "stream",
          "name": "stdout",
          "text": [
            "Requirement already satisfied: seaborn in /usr/local/lib/python3.10/dist-packages (0.13.1)\n",
            "Requirement already satisfied: numpy!=1.24.0,>=1.20 in /usr/local/lib/python3.10/dist-packages (from seaborn) (1.25.2)\n",
            "Requirement already satisfied: pandas>=1.2 in /usr/local/lib/python3.10/dist-packages (from seaborn) (2.0.3)\n",
            "Requirement already satisfied: matplotlib!=3.6.1,>=3.4 in /usr/local/lib/python3.10/dist-packages (from seaborn) (3.7.1)\n",
            "Requirement already satisfied: contourpy>=1.0.1 in /usr/local/lib/python3.10/dist-packages (from matplotlib!=3.6.1,>=3.4->seaborn) (1.2.1)\n",
            "Requirement already satisfied: cycler>=0.10 in /usr/local/lib/python3.10/dist-packages (from matplotlib!=3.6.1,>=3.4->seaborn) (0.12.1)\n",
            "Requirement already satisfied: fonttools>=4.22.0 in /usr/local/lib/python3.10/dist-packages (from matplotlib!=3.6.1,>=3.4->seaborn) (4.53.0)\n",
            "Requirement already satisfied: kiwisolver>=1.0.1 in /usr/local/lib/python3.10/dist-packages (from matplotlib!=3.6.1,>=3.4->seaborn) (1.4.5)\n",
            "Requirement already satisfied: packaging>=20.0 in /usr/local/lib/python3.10/dist-packages (from matplotlib!=3.6.1,>=3.4->seaborn) (24.1)\n",
            "Requirement already satisfied: pillow>=6.2.0 in /usr/local/lib/python3.10/dist-packages (from matplotlib!=3.6.1,>=3.4->seaborn) (9.4.0)\n",
            "Requirement already satisfied: pyparsing>=2.3.1 in /usr/local/lib/python3.10/dist-packages (from matplotlib!=3.6.1,>=3.4->seaborn) (3.1.2)\n",
            "Requirement already satisfied: python-dateutil>=2.7 in /usr/local/lib/python3.10/dist-packages (from matplotlib!=3.6.1,>=3.4->seaborn) (2.8.2)\n",
            "Requirement already satisfied: pytz>=2020.1 in /usr/local/lib/python3.10/dist-packages (from pandas>=1.2->seaborn) (2023.4)\n",
            "Requirement already satisfied: tzdata>=2022.1 in /usr/local/lib/python3.10/dist-packages (from pandas>=1.2->seaborn) (2024.1)\n",
            "Requirement already satisfied: six>=1.5 in /usr/local/lib/python3.10/dist-packages (from python-dateutil>=2.7->matplotlib!=3.6.1,>=3.4->seaborn) (1.16.0)\n"
          ]
        }
      ]
    },
    {
      "cell_type": "code",
      "source": [
        "import pandas as pd\n",
        "import numpy as np\n",
        "import matplotlib.pyplot as plt\n",
        "import seaborn as sns"
      ],
      "metadata": {
        "id": "6iCp1Z_-Erim"
      },
      "execution_count": 15,
      "outputs": []
    },
    {
      "cell_type": "code",
      "source": [
        "dados_vendas = [\n",
        "    {\"Data da venda\": \"2023-01-01\", \"Valor da venda\": 100.00, \"Produto vendido\": \"Kit 1\", \"Quantidade vendida\": 2, \"Método de pagamento\": \"Cartão\", \"Região de venda\": \"Centro\"},\n",
        "    {\"Data da venda\": \"2023-01-02\", \"Valor da venda\": 50.00, \"Produto vendido\": \"Hidratante labial\", \"Quantidade vendida\": 1, \"Método de pagamento\": \"Dinheiro\", \"Região de venda\": \"Sul\"},\n",
        "    {\"Data da venda\": \"2023-01-03\", \"Valor da venda\": 120.00, \"Produto vendido\": \"Kit 2\", \"Quantidade vendida\": 3, \"Método de pagamento\": \"Cartão\", \"Região de venda\": \"Norte\"},\n",
        "    {\"Data da venda\": \"2023-01-04\", \"Valor da venda\": 80.00, \"Produto vendido\": \"Protetor Solar FPS 50\", \"Quantidade vendida\": 2, \"Método de pagamento\": \"PIX\", \"Região de venda\": \"Leste\"},\n",
        "    {\"Data da venda\": \"2023-01-05\", \"Valor da venda\": 150.00, \"Produto vendido\": \"Sérum facial\", \"Quantidade vendida\": 2, \"Método de pagamento\": \"Cartão\", \"Região de venda\": \"Oeste\"},\n",
        "    {\"Data da venda\": \"2023-01-06\", \"Valor da venda\": 70.00, \"Produto vendido\": \"Hidratante facial\", \"Quantidade vendida\": 1, \"Método de pagamento\": \"Dinheiro\", \"Região de venda\": \"Centro\"},\n",
        "    {\"Data da venda\": \"2023-01-07\", \"Valor da venda\": 90.00, \"Produto vendido\": \"Hidratante corporal\", \"Quantidade vendida\": 2, \"Método de pagamento\": \"PIX\", \"Região de venda\": \"Sul\"},\n",
        "    {\"Data da venda\": \"2023-01-08\", \"Valor da venda\": 110.00, \"Produto vendido\": \"Vitamina C\", \"Quantidade vendida\": 3, \"Método de pagamento\": \"Cartão\", \"Região de venda\": \"Norte\"},\n",
        "    {\"Data da venda\": \"2023-01-09\", \"Valor da venda\": 130.00, \"Produto vendido\": \"Kit 3\", \"Quantidade vendida\": 2, \"Método de pagamento\": \"Dinheiro\", \"Região de venda\": \"Leste\"},\n",
        "    {\"Data da venda\": \"2023-01-10\", \"Valor da venda\": 100.00, \"Produto vendido\": \"Água micelar\", \"Quantidade vendida\": 1, \"Método de pagamento\": \"Cartão\", \"Região de venda\": \"Oeste\"}\n",
        "]"
      ],
      "metadata": {
        "id": "_cbn6hO6_ofW"
      },
      "execution_count": 16,
      "outputs": []
    },
    {
      "cell_type": "code",
      "source": [
        "df = pd.DataFrame(dados_vendas)\n",
        "df['Data da venda'] = pd.to_datetime(df['Data da venda'])\n",
        "df['Data da venda'] = df['Data da venda'].dt.strftime('%d/%m/%Y')\n",
        "print(df)"
      ],
      "metadata": {
        "colab": {
          "base_uri": "https://localhost:8080/"
        },
        "id": "KioGv8rKEKTC",
        "outputId": "5fc0c29c-bd8a-4250-aa83-5080d87e6490"
      },
      "execution_count": 20,
      "outputs": [
        {
          "output_type": "stream",
          "name": "stdout",
          "text": [
            "  Data da venda  Valor da venda        Produto vendido  Quantidade vendida  \\\n",
            "0    01/01/2023           100.0                  Kit 1                   2   \n",
            "1    02/01/2023            50.0      Hidratante labial                   1   \n",
            "2    03/01/2023           120.0                  Kit 2                   3   \n",
            "3    04/01/2023            80.0  Protetor Solar FPS 50                   2   \n",
            "4    05/01/2023           150.0           Sérum facial                   2   \n",
            "5    06/01/2023            70.0      Hidratante facial                   1   \n",
            "6    07/01/2023            90.0    Hidratante corporal                   2   \n",
            "7    08/01/2023           110.0             Vitamina C                   3   \n",
            "8    09/01/2023           130.0                  Kit 3                   2   \n",
            "9    10/01/2023           100.0           Água micelar                   1   \n",
            "\n",
            "  Método de pagamento Região de venda  \n",
            "0              Cartão          Centro  \n",
            "1            Dinheiro             Sul  \n",
            "2              Cartão           Norte  \n",
            "3                 PIX           Leste  \n",
            "4              Cartão           Oeste  \n",
            "5            Dinheiro          Centro  \n",
            "6                 PIX             Sul  \n",
            "7              Cartão           Norte  \n",
            "8            Dinheiro           Leste  \n",
            "9              Cartão           Oeste  \n"
          ]
        }
      ]
    },
    {
      "cell_type": "code",
      "source": [
        "df.to_excel('vendas_janeiro_2023.xlsx' , index=False)"
      ],
      "metadata": {
        "id": "_ynrXS6pGDx3"
      },
      "execution_count": 21,
      "outputs": []
    },
    {
      "cell_type": "code",
      "source": [
        "media_vendas = np.mean(df['Valor da venda'])\n",
        "print(f\"Media: {media_vendas: .2f}\")"
      ],
      "metadata": {
        "colab": {
          "base_uri": "https://localhost:8080/"
        },
        "id": "TNBJwKKVIO83",
        "outputId": "dcb5688a-8351-4cc2-930d-c11854079559"
      },
      "execution_count": 22,
      "outputs": [
        {
          "output_type": "stream",
          "name": "stdout",
          "text": [
            "Media:  100.00\n"
          ]
        }
      ]
    },
    {
      "cell_type": "code",
      "source": [
        "mediana_vendas = np.median(df['Valor da venda'])\n",
        "print(f\"Medaiana: {mediana_vendas: .2f}\")"
      ],
      "metadata": {
        "colab": {
          "base_uri": "https://localhost:8080/"
        },
        "id": "6D8bNdNSNVZ-",
        "outputId": "d5c43b6e-aee2-4abe-dc7f-3fd2401ca171"
      },
      "execution_count": 23,
      "outputs": [
        {
          "output_type": "stream",
          "name": "stdout",
          "text": [
            "Medaiana:  100.00\n"
          ]
        }
      ]
    },
    {
      "cell_type": "code",
      "source": [
        "valor_minimo = df['Valor da venda'].min()\n",
        "print(f\"Valor minimo: {valor_minimo: .2f}\")"
      ],
      "metadata": {
        "colab": {
          "base_uri": "https://localhost:8080/"
        },
        "id": "HfNkQe5gaaVO",
        "outputId": "6687bae0-4e3d-4ea1-87d7-512760c0e1c9"
      },
      "execution_count": 24,
      "outputs": [
        {
          "output_type": "stream",
          "name": "stdout",
          "text": [
            "Valor minimo:  50.00\n"
          ]
        }
      ]
    },
    {
      "cell_type": "code",
      "source": [
        "valor_maximo = df['Valor da venda'].max()\n",
        "print(f\"Valor maximo: {valor_maximo: .2f}\")"
      ],
      "metadata": {
        "colab": {
          "base_uri": "https://localhost:8080/"
        },
        "id": "Y58COMG-amvb",
        "outputId": "34ffe4cc-1297-4b32-ebd1-f7a355e49460"
      },
      "execution_count": 25,
      "outputs": [
        {
          "output_type": "stream",
          "name": "stdout",
          "text": [
            "Valor maximo:  150.00\n"
          ]
        }
      ]
    },
    {
      "cell_type": "code",
      "source": [
        "desvio_padrao_vendas = df['Valor da venda'].std()\n",
        "print(f\"Desvio padrao: {desvio_padrao_vendas: .2f}\")"
      ],
      "metadata": {
        "colab": {
          "base_uri": "https://localhost:8080/"
        },
        "id": "YaiAD5Q1axNg",
        "outputId": "d7d85d76-f264-4a3a-a727-e68db2acf89c"
      },
      "execution_count": 26,
      "outputs": [
        {
          "output_type": "stream",
          "name": "stdout",
          "text": [
            "Desvio padrao:  29.44\n"
          ]
        }
      ]
    },
    {
      "cell_type": "code",
      "source": [
        "import matplotlib.pyplot as plt\n",
        "import seaborn as sns\n",
        "\n",
        "plt.figure(figsize=(8, 4))\n",
        "sns.histplot(df[\"Valor da venda\"], bins=5, color='green')\n",
        "plt.title(\"Histograma de Vendas\")\n",
        "plt.xlabel(\"Valor da venda\")\n",
        "plt.legend()\n",
        "plt.show()\n"
      ],
      "metadata": {
        "colab": {
          "base_uri": "https://localhost:8080/",
          "height": 447
        },
        "id": "lGZ-8mmbbcwi",
        "outputId": "88bfb54e-4c82-4042-c336-9049353cd511"
      },
      "execution_count": 49,
      "outputs": [
        {
          "output_type": "stream",
          "name": "stderr",
          "text": [
            "WARNING:matplotlib.legend:No artists with labels found to put in legend.  Note that artists whose label start with an underscore are ignored when legend() is called with no argument.\n"
          ]
        },
        {
          "output_type": "display_data",
          "data": {
            "text/plain": [
              "<Figure size 800x400 with 1 Axes>"
            ],
            "image/png": "[encoded data removed]"
          },
          "metadata": {}
        }
      ]
    },
    {
      "cell_type": "code",
      "source": [],
      "metadata": {
        "id": "U2EbTlb7jpH1"
      },
      "execution_count": null,
      "outputs": []
    }
  ]
}